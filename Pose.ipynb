{
 "cells": [
  {
   "cell_type": "markdown",
   "metadata": {},
   "source": [
    "# 1. Importing libraries and loading Data"
   ]
  },
  {
   "cell_type": "markdown",
   "metadata": {},
   "source": [
    "### 1.1 Installing necessary libraries"
   ]
  },
  {
   "cell_type": "code",
   "execution_count": 1,
   "metadata": {},
   "outputs": [
    {
     "name": "stdout",
     "output_type": "stream",
     "text": [
      "Requirement already satisfied: matplotlib in c:\\users\\vinee\\anaconda3\\envs\\ml\\lib\\site-packages (3.5.1)\n",
      "Requirement already satisfied: pyparsing>=2.2.1 in c:\\users\\vinee\\anaconda3\\envs\\ml\\lib\\site-packages (from matplotlib) (3.0.4)\n",
      "Requirement already satisfied: python-dateutil>=2.7 in c:\\users\\vinee\\anaconda3\\envs\\ml\\lib\\site-packages (from matplotlib) (2.8.2)\n",
      "Requirement already satisfied: packaging>=20.0 in c:\\users\\vinee\\anaconda3\\envs\\ml\\lib\\site-packages (from matplotlib) (21.3)\n",
      "Requirement already satisfied: pillow>=6.2.0 in c:\\users\\vinee\\anaconda3\\envs\\ml\\lib\\site-packages (from matplotlib) (9.0.1)\n",
      "Requirement already satisfied: fonttools>=4.22.0 in c:\\users\\vinee\\anaconda3\\envs\\ml\\lib\\site-packages (from matplotlib) (4.25.0)\n",
      "Requirement already satisfied: numpy>=1.17 in c:\\users\\vinee\\anaconda3\\envs\\ml\\lib\\site-packages (from matplotlib) (1.20.3)\n",
      "Requirement already satisfied: kiwisolver>=1.0.1 in c:\\users\\vinee\\anaconda3\\envs\\ml\\lib\\site-packages (from matplotlib) (1.3.2)\n",
      "Requirement already satisfied: cycler>=0.10 in c:\\users\\vinee\\anaconda3\\envs\\ml\\lib\\site-packages (from matplotlib) (0.11.0)\n",
      "Requirement already satisfied: six>=1.5 in c:\\users\\vinee\\anaconda3\\envs\\ml\\lib\\site-packages (from python-dateutil>=2.7->matplotlib) (1.16.0)\n",
      "Note: you may need to restart the kernel to use updated packages.\n",
      "Requirement already satisfied: pandas in c:\\users\\vinee\\anaconda3\\envs\\ml\\lib\\site-packages (1.4.1)\n",
      "Requirement already satisfied: numpy>=1.18.5 in c:\\users\\vinee\\anaconda3\\envs\\ml\\lib\\site-packages (from pandas) (1.20.3)\n",
      "Requirement already satisfied: python-dateutil>=2.8.1 in c:\\users\\vinee\\anaconda3\\envs\\ml\\lib\\site-packages (from pandas) (2.8.2)\n",
      "Requirement already satisfied: pytz>=2020.1 in c:\\users\\vinee\\anaconda3\\envs\\ml\\lib\\site-packages (from pandas) (2021.3)\n",
      "Requirement already satisfied: six>=1.5 in c:\\users\\vinee\\anaconda3\\envs\\ml\\lib\\site-packages (from python-dateutil>=2.8.1->pandas) (1.16.0)\n",
      "Note: you may need to restart the kernel to use updated packages.\n",
      "Requirement already satisfied: numpy in c:\\users\\vinee\\anaconda3\\envs\\ml\\lib\\site-packages (1.20.3)\n",
      "Note: you may need to restart the kernel to use updated packages.\n",
      "Requirement already satisfied: pyts in c:\\users\\vinee\\anaconda3\\envs\\ml\\lib\\site-packages (0.12.0)\n",
      "Requirement already satisfied: numba>=0.48.0 in c:\\users\\vinee\\anaconda3\\envs\\ml\\lib\\site-packages (from pyts) (0.54.1)\n",
      "Requirement already satisfied: numpy>=1.17.5 in c:\\users\\vinee\\anaconda3\\envs\\ml\\lib\\site-packages (from pyts) (1.20.3)\n",
      "Requirement already satisfied: scipy>=1.3.0 in c:\\users\\vinee\\anaconda3\\envs\\ml\\lib\\site-packages (from pyts) (1.7.3)\n",
      "Requirement already satisfied: joblib>=0.12 in c:\\users\\vinee\\anaconda3\\envs\\ml\\lib\\site-packages (from pyts) (1.1.0)\n",
      "Requirement already satisfied: scikit-learn>=0.22.1 in c:\\users\\vinee\\anaconda3\\envs\\ml\\lib\\site-packages (from pyts) (1.0.2)\n",
      "Requirement already satisfied: llvmlite<0.38,>=0.37.0rc1 in c:\\users\\vinee\\anaconda3\\envs\\ml\\lib\\site-packages (from numba>=0.48.0->pyts) (0.37.0)\n",
      "Requirement already satisfied: setuptools in c:\\users\\vinee\\anaconda3\\envs\\ml\\lib\\site-packages (from numba>=0.48.0->pyts) (58.0.4)\n",
      "Requirement already satisfied: threadpoolctl>=2.0.0 in c:\\users\\vinee\\anaconda3\\envs\\ml\\lib\\site-packages (from scikit-learn>=0.22.1->pyts) (2.2.0)\n",
      "Note: you may need to restart the kernel to use updated packages.\n"
     ]
    }
   ],
   "source": [
    "%pip install matplotlib\n",
    "%pip install pandas\n",
    "%pip install numpy\n",
    "\n",
    "## for time series classification\n",
    "%pip install pyts "
   ]
  },
  {
   "cell_type": "code",
   "execution_count": 2,
   "metadata": {},
   "outputs": [],
   "source": [
    "import pandas as pd\n",
    "import numpy as np\n",
    "\n",
    "import matplotlib.pyplot as plt\n",
    "from matplotlib import animation as anim\n",
    "import seaborn as sns\n",
    "\n",
    "from scipy import spatial\n",
    "from sklearn.decomposition import PCA\n",
    "from sklearn.cluster import KMeans\n",
    "from sklearn.metrics import silhouette_score"
   ]
  },
  {
   "cell_type": "markdown",
   "metadata": {},
   "source": [
    "### 1.2 Loading data"
   ]
  },
  {
   "cell_type": "code",
   "execution_count": 3,
   "metadata": {},
   "outputs": [
    {
     "data": {
      "text/html": [
       "<div>\n",
       "<style scoped>\n",
       "    .dataframe tbody tr th:only-of-type {\n",
       "        vertical-align: middle;\n",
       "    }\n",
       "\n",
       "    .dataframe tbody tr th {\n",
       "        vertical-align: top;\n",
       "    }\n",
       "\n",
       "    .dataframe thead th {\n",
       "        text-align: right;\n",
       "    }\n",
       "</style>\n",
       "<table border=\"1\" class=\"dataframe\">\n",
       "  <thead>\n",
       "    <tr style=\"text-align: right;\">\n",
       "      <th></th>\n",
       "      <th>name</th>\n",
       "      <th>xX_left_shoulder</th>\n",
       "      <th>yY_left_shoulder</th>\n",
       "      <th>zZ_left_shoulder</th>\n",
       "      <th>xX_right_shoulder</th>\n",
       "      <th>yY_right_shoulder</th>\n",
       "      <th>zZ_right_shoulder</th>\n",
       "      <th>xX_left_elbow</th>\n",
       "      <th>yY_left_elbow</th>\n",
       "      <th>zZ_left_elbow</th>\n",
       "      <th>...</th>\n",
       "      <th>zZ_left_knee</th>\n",
       "      <th>xX_right_knee</th>\n",
       "      <th>yY_right_knee</th>\n",
       "      <th>zZ_right_knee</th>\n",
       "      <th>xX_left_ankle</th>\n",
       "      <th>yY_left_ankle</th>\n",
       "      <th>zZ_left_ankle</th>\n",
       "      <th>xX_right_ankle</th>\n",
       "      <th>yY_right_ankle</th>\n",
       "      <th>zZ_right_ankle</th>\n",
       "    </tr>\n",
       "  </thead>\n",
       "  <tbody>\n",
       "    <tr>\n",
       "      <th>0</th>\n",
       "      <td>angled leg presses</td>\n",
       "      <td>[0.6244075298309326, 0.6202492713928223, 0.625...</td>\n",
       "      <td>[0.6125868558883667, 0.6116636991500854, 0.614...</td>\n",
       "      <td>[-0.7317232489585876, -0.7084757089614868, -0....</td>\n",
       "      <td>[0.7274216413497925, 0.7407364845275879, 0.745...</td>\n",
       "      <td>[0.5923414826393127, 0.607475757598877, 0.6018...</td>\n",
       "      <td>[-0.2771779000759125, -0.31190672516822815, -0...</td>\n",
       "      <td>[0.45598286390304565, 0.4522373676300049, 0.45...</td>\n",
       "      <td>[0.7025633454322815, 0.7008029818534851, 0.700...</td>\n",
       "      <td>[-0.8455376625061035, -0.7739219665527344, -0....</td>\n",
       "      <td>...</td>\n",
       "      <td>[-0.18987344205379486, -0.0501105897128582, -0...</td>\n",
       "      <td>[0.3456818461418152, 0.35185500979423523, 0.37...</td>\n",
       "      <td>[0.4793410003185272, 0.48256415128707886, 0.48...</td>\n",
       "      <td>[0.25488728284835815, 0.33376675844192505, 0.3...</td>\n",
       "      <td>[0.06234923005104065, 0.05919414758682251, 0.0...</td>\n",
       "      <td>[0.36329522728919983, 0.3608418405056, 0.36984...</td>\n",
       "      <td>[-0.06779885292053223, 0.08755621314048767, 0....</td>\n",
       "      <td>[0.24116382002830505, 0.23082193732261658, 0.2...</td>\n",
       "      <td>[0.3432755172252655, 0.34823083877563477, 0.34...</td>\n",
       "      <td>[0.41889476776123047, 0.49117857217788696, 0.4...</td>\n",
       "    </tr>\n",
       "    <tr>\n",
       "      <th>1</th>\n",
       "      <td>arnold press</td>\n",
       "      <td>[0.6750805377960205, 0.6730958819389343, 0.674...</td>\n",
       "      <td>[0.3685726225376129, 0.36425328254699707, 0.36...</td>\n",
       "      <td>[-0.023685937747359276, -0.028867069631814957,...</td>\n",
       "      <td>[0.47216328978538513, 0.47299060225486755, 0.4...</td>\n",
       "      <td>[0.3719647526741028, 0.368996262550354, 0.3686...</td>\n",
       "      <td>[-0.08193735778331757, -0.10326733440160751, -...</td>\n",
       "      <td>[0.6953715085983276, 0.6981197595596313, 0.706...</td>\n",
       "      <td>[0.4491013288497925, 0.44966304302215576, 0.45...</td>\n",
       "      <td>[-0.3566053807735443, -0.35106605291366577, -0...</td>\n",
       "      <td>...</td>\n",
       "      <td>[-0.6593864560127258, -0.6449337601661682, -0....</td>\n",
       "      <td>[0.48968997597694397, 0.48874959349632263, 0.4...</td>\n",
       "      <td>[0.6085264682769775, 0.6103435158729553, 0.610...</td>\n",
       "      <td>[-0.8127835988998413, -0.8063545227050781, -0....</td>\n",
       "      <td>[0.7018957734107971, 0.7013241052627563, 0.701...</td>\n",
       "      <td>[0.742508590221405, 0.7433649301528931, 0.7421...</td>\n",
       "      <td>[-0.3053855001926422, -0.27191391587257385, -0...</td>\n",
       "      <td>[0.48945480585098267, 0.48833632469177246, 0.4...</td>\n",
       "      <td>[0.7392826080322266, 0.739270806312561, 0.7423...</td>\n",
       "      <td>[-0.3828478753566742, -0.3595616817474365, -0....</td>\n",
       "    </tr>\n",
       "    <tr>\n",
       "      <th>2</th>\n",
       "      <td>back extensions</td>\n",
       "      <td>[0.24804607033729553, 0.26040884852409363, 0.2...</td>\n",
       "      <td>[0.4517459571361542, 0.45352500677108765, 0.45...</td>\n",
       "      <td>[-0.3853210508823395, -0.37524843215942383, -0...</td>\n",
       "      <td>[0.23037508130073547, 0.23251590132713318, 0.2...</td>\n",
       "      <td>[0.4661741554737091, 0.46856704354286194, 0.47...</td>\n",
       "      <td>[0.28441742062568665, 0.28328651189804077, 0.2...</td>\n",
       "      <td>[0.37875789403915405, 0.3819432854652405, 0.38...</td>\n",
       "      <td>[0.4680253565311432, 0.4703821539878845, 0.469...</td>\n",
       "      <td>[-0.6757698059082031, -0.6794125437736511, -0....</td>\n",
       "      <td>...</td>\n",
       "      <td>[-0.2013997733592987, -0.18110059201717377, -0...</td>\n",
       "      <td>[0.6978815793991089, 0.7043741941452026, 0.700...</td>\n",
       "      <td>[0.6545929908752441, 0.6574983596801758, 0.661...</td>\n",
       "      <td>[0.45003992319107056, 0.41382306814193726, 0.4...</td>\n",
       "      <td>[0.9378144145011902, 0.9393232464790344, 0.940...</td>\n",
       "      <td>[0.7470904588699341, 0.743262529373169, 0.7441...</td>\n",
       "      <td>[-0.1447303295135498, -0.076068215072155, -0.0...</td>\n",
       "      <td>[0.8562198877334595, 0.8520399332046509, 0.866...</td>\n",
       "      <td>[0.7071706056594849, 0.7047874331474304, 0.709...</td>\n",
       "      <td>[0.7344235777854919, 0.7165142893791199, 0.722...</td>\n",
       "    </tr>\n",
       "    <tr>\n",
       "      <th>3</th>\n",
       "      <td>back presses</td>\n",
       "      <td>[0.5400533080101013, 0.5398567914962769, 0.539...</td>\n",
       "      <td>[0.30235743522644043, 0.3022450804710388, 0.30...</td>\n",
       "      <td>[0.18136030435562134, 0.18636830151081085, 0.1...</td>\n",
       "      <td>[0.4811861217021942, 0.48017001152038574, 0.47...</td>\n",
       "      <td>[0.3090822100639343, 0.30989527702331543, 0.30...</td>\n",
       "      <td>[-0.02199406921863556, -0.012855282053351402, ...</td>\n",
       "      <td>[0.5700136423110962, 0.5703814625740051, 0.570...</td>\n",
       "      <td>[0.24835893511772156, 0.24547149240970612, 0.2...</td>\n",
       "      <td>[0.2516632080078125, 0.24780821800231934, 0.26...</td>\n",
       "      <td>...</td>\n",
       "      <td>[-0.11309728771448135, -0.12462121993303299, -...</td>\n",
       "      <td>[0.5247339606285095, 0.5247664451599121, 0.525...</td>\n",
       "      <td>[0.5397233366966248, 0.543906033039093, 0.5451...</td>\n",
       "      <td>[-0.4834393858909607, -0.48192155361175537, -0...</td>\n",
       "      <td>[0.6425602436065674, 0.6411526203155518, 0.642...</td>\n",
       "      <td>[0.6941204071044922, 0.6939789652824402, 0.694...</td>\n",
       "      <td>[-0.08317430317401886, -0.09547088295221329, -...</td>\n",
       "      <td>[0.5315048098564148, 0.5302850008010864, 0.530...</td>\n",
       "      <td>[0.7348516583442688, 0.7334133386611938, 0.732...</td>\n",
       "      <td>[-0.46438804268836975, -0.4643574059009552, -0...</td>\n",
       "    </tr>\n",
       "    <tr>\n",
       "      <th>4</th>\n",
       "      <td>bar triceps extensions</td>\n",
       "      <td>[0.4926587641239166, 0.4928347170352936, 0.492...</td>\n",
       "      <td>[0.3344011902809143, 0.3359830975532532, 0.333...</td>\n",
       "      <td>[-0.10330402106046677, -0.09490997344255447, -...</td>\n",
       "      <td>[0.5219139456748962, 0.5209825038909912, 0.518...</td>\n",
       "      <td>[0.3498220443725586, 0.3505416214466095, 0.345...</td>\n",
       "      <td>[0.1443895548582077, 0.15305279195308685, 0.14...</td>\n",
       "      <td>[0.47974899411201477, 0.4805894196033478, 0.47...</td>\n",
       "      <td>[0.246974915266037, 0.24619218707084656, 0.231...</td>\n",
       "      <td>[-0.19100739061832428, -0.17557747662067413, -...</td>\n",
       "      <td>...</td>\n",
       "      <td>[-0.02909061312675476, -0.03907063230872154, -...</td>\n",
       "      <td>[0.5106016397476196, 0.5111173391342163, 0.512...</td>\n",
       "      <td>[0.7280483841896057, 0.7326410412788391, 0.729...</td>\n",
       "      <td>[0.08061607927083969, 0.08852042257785797, 0.0...</td>\n",
       "      <td>[0.5032834410667419, 0.5010203719139099, 0.501...</td>\n",
       "      <td>[0.8918150663375854, 0.8992764949798584, 0.898...</td>\n",
       "      <td>[-0.017211245372891426, -0.041592344641685486,...</td>\n",
       "      <td>[0.5164017677307129, 0.517551600933075, 0.5177...</td>\n",
       "      <td>[0.8738036751747131, 0.8815505504608154, 0.877...</td>\n",
       "      <td>[0.12899845838546753, 0.13307781517505646, 0.1...</td>\n",
       "    </tr>\n",
       "  </tbody>\n",
       "</table>\n",
       "<p>5 rows × 37 columns</p>\n",
       "</div>"
      ],
      "text/plain": [
       "                     name                                   xX_left_shoulder  \\\n",
       "0      angled leg presses  [0.6244075298309326, 0.6202492713928223, 0.625...   \n",
       "1            arnold press  [0.6750805377960205, 0.6730958819389343, 0.674...   \n",
       "2         back extensions  [0.24804607033729553, 0.26040884852409363, 0.2...   \n",
       "3            back presses  [0.5400533080101013, 0.5398567914962769, 0.539...   \n",
       "4  bar triceps extensions  [0.4926587641239166, 0.4928347170352936, 0.492...   \n",
       "\n",
       "                                    yY_left_shoulder  \\\n",
       "0  [0.6125868558883667, 0.6116636991500854, 0.614...   \n",
       "1  [0.3685726225376129, 0.36425328254699707, 0.36...   \n",
       "2  [0.4517459571361542, 0.45352500677108765, 0.45...   \n",
       "3  [0.30235743522644043, 0.3022450804710388, 0.30...   \n",
       "4  [0.3344011902809143, 0.3359830975532532, 0.333...   \n",
       "\n",
       "                                    zZ_left_shoulder  \\\n",
       "0  [-0.7317232489585876, -0.7084757089614868, -0....   \n",
       "1  [-0.023685937747359276, -0.028867069631814957,...   \n",
       "2  [-0.3853210508823395, -0.37524843215942383, -0...   \n",
       "3  [0.18136030435562134, 0.18636830151081085, 0.1...   \n",
       "4  [-0.10330402106046677, -0.09490997344255447, -...   \n",
       "\n",
       "                                   xX_right_shoulder  \\\n",
       "0  [0.7274216413497925, 0.7407364845275879, 0.745...   \n",
       "1  [0.47216328978538513, 0.47299060225486755, 0.4...   \n",
       "2  [0.23037508130073547, 0.23251590132713318, 0.2...   \n",
       "3  [0.4811861217021942, 0.48017001152038574, 0.47...   \n",
       "4  [0.5219139456748962, 0.5209825038909912, 0.518...   \n",
       "\n",
       "                                   yY_right_shoulder  \\\n",
       "0  [0.5923414826393127, 0.607475757598877, 0.6018...   \n",
       "1  [0.3719647526741028, 0.368996262550354, 0.3686...   \n",
       "2  [0.4661741554737091, 0.46856704354286194, 0.47...   \n",
       "3  [0.3090822100639343, 0.30989527702331543, 0.30...   \n",
       "4  [0.3498220443725586, 0.3505416214466095, 0.345...   \n",
       "\n",
       "                                   zZ_right_shoulder  \\\n",
       "0  [-0.2771779000759125, -0.31190672516822815, -0...   \n",
       "1  [-0.08193735778331757, -0.10326733440160751, -...   \n",
       "2  [0.28441742062568665, 0.28328651189804077, 0.2...   \n",
       "3  [-0.02199406921863556, -0.012855282053351402, ...   \n",
       "4  [0.1443895548582077, 0.15305279195308685, 0.14...   \n",
       "\n",
       "                                       xX_left_elbow  \\\n",
       "0  [0.45598286390304565, 0.4522373676300049, 0.45...   \n",
       "1  [0.6953715085983276, 0.6981197595596313, 0.706...   \n",
       "2  [0.37875789403915405, 0.3819432854652405, 0.38...   \n",
       "3  [0.5700136423110962, 0.5703814625740051, 0.570...   \n",
       "4  [0.47974899411201477, 0.4805894196033478, 0.47...   \n",
       "\n",
       "                                       yY_left_elbow  \\\n",
       "0  [0.7025633454322815, 0.7008029818534851, 0.700...   \n",
       "1  [0.4491013288497925, 0.44966304302215576, 0.45...   \n",
       "2  [0.4680253565311432, 0.4703821539878845, 0.469...   \n",
       "3  [0.24835893511772156, 0.24547149240970612, 0.2...   \n",
       "4  [0.246974915266037, 0.24619218707084656, 0.231...   \n",
       "\n",
       "                                       zZ_left_elbow  ...  \\\n",
       "0  [-0.8455376625061035, -0.7739219665527344, -0....  ...   \n",
       "1  [-0.3566053807735443, -0.35106605291366577, -0...  ...   \n",
       "2  [-0.6757698059082031, -0.6794125437736511, -0....  ...   \n",
       "3  [0.2516632080078125, 0.24780821800231934, 0.26...  ...   \n",
       "4  [-0.19100739061832428, -0.17557747662067413, -...  ...   \n",
       "\n",
       "                                        zZ_left_knee  \\\n",
       "0  [-0.18987344205379486, -0.0501105897128582, -0...   \n",
       "1  [-0.6593864560127258, -0.6449337601661682, -0....   \n",
       "2  [-0.2013997733592987, -0.18110059201717377, -0...   \n",
       "3  [-0.11309728771448135, -0.12462121993303299, -...   \n",
       "4  [-0.02909061312675476, -0.03907063230872154, -...   \n",
       "\n",
       "                                       xX_right_knee  \\\n",
       "0  [0.3456818461418152, 0.35185500979423523, 0.37...   \n",
       "1  [0.48968997597694397, 0.48874959349632263, 0.4...   \n",
       "2  [0.6978815793991089, 0.7043741941452026, 0.700...   \n",
       "3  [0.5247339606285095, 0.5247664451599121, 0.525...   \n",
       "4  [0.5106016397476196, 0.5111173391342163, 0.512...   \n",
       "\n",
       "                                       yY_right_knee  \\\n",
       "0  [0.4793410003185272, 0.48256415128707886, 0.48...   \n",
       "1  [0.6085264682769775, 0.6103435158729553, 0.610...   \n",
       "2  [0.6545929908752441, 0.6574983596801758, 0.661...   \n",
       "3  [0.5397233366966248, 0.543906033039093, 0.5451...   \n",
       "4  [0.7280483841896057, 0.7326410412788391, 0.729...   \n",
       "\n",
       "                                       zZ_right_knee  \\\n",
       "0  [0.25488728284835815, 0.33376675844192505, 0.3...   \n",
       "1  [-0.8127835988998413, -0.8063545227050781, -0....   \n",
       "2  [0.45003992319107056, 0.41382306814193726, 0.4...   \n",
       "3  [-0.4834393858909607, -0.48192155361175537, -0...   \n",
       "4  [0.08061607927083969, 0.08852042257785797, 0.0...   \n",
       "\n",
       "                                       xX_left_ankle  \\\n",
       "0  [0.06234923005104065, 0.05919414758682251, 0.0...   \n",
       "1  [0.7018957734107971, 0.7013241052627563, 0.701...   \n",
       "2  [0.9378144145011902, 0.9393232464790344, 0.940...   \n",
       "3  [0.6425602436065674, 0.6411526203155518, 0.642...   \n",
       "4  [0.5032834410667419, 0.5010203719139099, 0.501...   \n",
       "\n",
       "                                       yY_left_ankle  \\\n",
       "0  [0.36329522728919983, 0.3608418405056, 0.36984...   \n",
       "1  [0.742508590221405, 0.7433649301528931, 0.7421...   \n",
       "2  [0.7470904588699341, 0.743262529373169, 0.7441...   \n",
       "3  [0.6941204071044922, 0.6939789652824402, 0.694...   \n",
       "4  [0.8918150663375854, 0.8992764949798584, 0.898...   \n",
       "\n",
       "                                       zZ_left_ankle  \\\n",
       "0  [-0.06779885292053223, 0.08755621314048767, 0....   \n",
       "1  [-0.3053855001926422, -0.27191391587257385, -0...   \n",
       "2  [-0.1447303295135498, -0.076068215072155, -0.0...   \n",
       "3  [-0.08317430317401886, -0.09547088295221329, -...   \n",
       "4  [-0.017211245372891426, -0.041592344641685486,...   \n",
       "\n",
       "                                      xX_right_ankle  \\\n",
       "0  [0.24116382002830505, 0.23082193732261658, 0.2...   \n",
       "1  [0.48945480585098267, 0.48833632469177246, 0.4...   \n",
       "2  [0.8562198877334595, 0.8520399332046509, 0.866...   \n",
       "3  [0.5315048098564148, 0.5302850008010864, 0.530...   \n",
       "4  [0.5164017677307129, 0.517551600933075, 0.5177...   \n",
       "\n",
       "                                      yY_right_ankle  \\\n",
       "0  [0.3432755172252655, 0.34823083877563477, 0.34...   \n",
       "1  [0.7392826080322266, 0.739270806312561, 0.7423...   \n",
       "2  [0.7071706056594849, 0.7047874331474304, 0.709...   \n",
       "3  [0.7348516583442688, 0.7334133386611938, 0.732...   \n",
       "4  [0.8738036751747131, 0.8815505504608154, 0.877...   \n",
       "\n",
       "                                      zZ_right_ankle  \n",
       "0  [0.41889476776123047, 0.49117857217788696, 0.4...  \n",
       "1  [-0.3828478753566742, -0.3595616817474365, -0....  \n",
       "2  [0.7344235777854919, 0.7165142893791199, 0.722...  \n",
       "3  [-0.46438804268836975, -0.4643574059009552, -0...  \n",
       "4  [0.12899845838546753, 0.13307781517505646, 0.1...  \n",
       "\n",
       "[5 rows x 37 columns]"
      ]
     },
     "execution_count": 3,
     "metadata": {},
     "output_type": "execute_result"
    }
   ],
   "source": [
    "df = pd.read_csv('./data/60Activities-poseData.csv')\n",
    "df.head()"
   ]
  },
  {
   "cell_type": "code",
   "execution_count": 4,
   "metadata": {},
   "outputs": [
    {
     "name": "stdout",
     "output_type": "stream",
     "text": [
      "<class 'pandas.core.frame.DataFrame'>\n",
      "RangeIndex: 60 entries, 0 to 59\n",
      "Data columns (total 37 columns):\n",
      " #   Column             Non-Null Count  Dtype \n",
      "---  ------             --------------  ----- \n",
      " 0   name               60 non-null     object\n",
      " 1   xX_left_shoulder   60 non-null     object\n",
      " 2   yY_left_shoulder   60 non-null     object\n",
      " 3   zZ_left_shoulder   60 non-null     object\n",
      " 4   xX_right_shoulder  60 non-null     object\n",
      " 5   yY_right_shoulder  60 non-null     object\n",
      " 6   zZ_right_shoulder  60 non-null     object\n",
      " 7   xX_left_elbow      60 non-null     object\n",
      " 8   yY_left_elbow      60 non-null     object\n",
      " 9   zZ_left_elbow      60 non-null     object\n",
      " 10  xX_right_elbow     60 non-null     object\n",
      " 11  yY_right_elbow     60 non-null     object\n",
      " 12  zZ_right_elbow     60 non-null     object\n",
      " 13  xX_left_wrist      60 non-null     object\n",
      " 14  yY_left_wrist      60 non-null     object\n",
      " 15  zZ_left_wrist      60 non-null     object\n",
      " 16  xX_right_wrist     60 non-null     object\n",
      " 17  yY_right_wrist     60 non-null     object\n",
      " 18  zZ_right_wrist     60 non-null     object\n",
      " 19  xX_left_hip        60 non-null     object\n",
      " 20  yY_left_hip        60 non-null     object\n",
      " 21  zZ_left_hip        60 non-null     object\n",
      " 22  xX_right_hip       60 non-null     object\n",
      " 23  yY_right_hip       60 non-null     object\n",
      " 24  zZ_right_hip       60 non-null     object\n",
      " 25  xX_left_knee       60 non-null     object\n",
      " 26  yY_left_knee       60 non-null     object\n",
      " 27  zZ_left_knee       60 non-null     object\n",
      " 28  xX_right_knee      60 non-null     object\n",
      " 29  yY_right_knee      60 non-null     object\n",
      " 30  zZ_right_knee      60 non-null     object\n",
      " 31  xX_left_ankle      60 non-null     object\n",
      " 32  yY_left_ankle      60 non-null     object\n",
      " 33  zZ_left_ankle      60 non-null     object\n",
      " 34  xX_right_ankle     60 non-null     object\n",
      " 35  yY_right_ankle     60 non-null     object\n",
      " 36  zZ_right_ankle     60 non-null     object\n",
      "dtypes: object(37)\n",
      "memory usage: 17.5+ KB\n"
     ]
    }
   ],
   "source": [
    "df.info()"
   ]
  },
  {
   "cell_type": "markdown",
   "metadata": {},
   "source": [
    "### 1.3 Preprocessing"
   ]
  },
  {
   "cell_type": "markdown",
   "metadata": {},
   "source": [
    "Converting each row in the column to a list of floats. This is done by using the split function on the string and then converting each element to a float."
   ]
  },
  {
   "cell_type": "code",
   "execution_count": 5,
   "metadata": {},
   "outputs": [],
   "source": [
    "for columns in df.columns[1:]:\n",
    "    df[columns] = df[columns].apply(lambda x: [float(i) for i in x.strip('[]').split(',')])"
   ]
  },
  {
   "cell_type": "code",
   "execution_count": 6,
   "metadata": {},
   "outputs": [
    {
     "data": {
      "text/plain": [
       "{0: 'angled leg presses',\n",
       " 1: 'arnold press',\n",
       " 2: 'back extensions',\n",
       " 3: 'back presses',\n",
       " 4: 'bar triceps extensions',\n",
       " 5: 'barbell bench press',\n",
       " 6: 'barbell curls',\n",
       " 7: 'barbell front raise',\n",
       " 8: 'barbell lunge',\n",
       " 9: 'bench jump',\n",
       " 10: 'bench presses',\n",
       " 11: 'bent over row',\n",
       " 12: 'brbell shrugs',\n",
       " 13: 'cable crossover flys',\n",
       " 14: 'chin-ups',\n",
       " 15: 'close-grip bench presses',\n",
       " 16: 'concentration curls',\n",
       " 17: 'crunches',\n",
       " 18: 'deadlifts',\n",
       " 19: 'dumbbell flys',\n",
       " 20: 'dumbbell lunges',\n",
       " 21: 'dumbbell press',\n",
       " 22: 'dumbbell presses',\n",
       " 23: 'dumbbell pullovers',\n",
       " 24: 'dumbbell scarecrow',\n",
       " 25: 'dumbbell shrugs',\n",
       " 26: 'dumbbell triceps extension',\n",
       " 27: 'front raises',\n",
       " 28: 'hack squats',\n",
       " 29: 'hanging leg raises',\n",
       " 30: 'incline bench sit-ups',\n",
       " 31: 'incline presses',\n",
       " 32: 'lat pull-downs',\n",
       " 33: 'lateral raises',\n",
       " 34: 'leg extensions',\n",
       " 35: 'low pulley cable crossover',\n",
       " 36: 'low pulley front raises',\n",
       " 37: 'low-pulley lateral raises',\n",
       " 38: 'one-arm dumbbell rows',\n",
       " 39: 'one-arm dumbbell triceps extensions',\n",
       " 40: 'parallel bar dips',\n",
       " 41: 'pec deck files',\n",
       " 42: 'pec deck rear-delt laterals',\n",
       " 43: 'preacher curls',\n",
       " 44: 'push-downs',\n",
       " 45: 'push-ups',\n",
       " 46: 'seated calf raises',\n",
       " 47: 'seated dumbbell presses',\n",
       " 48: 'seated front presses',\n",
       " 49: 'seated jackknife',\n",
       " 50: 'seated rows',\n",
       " 51: 'sit-ups',\n",
       " 52: 'squats',\n",
       " 53: 'standing wrist curl',\n",
       " 54: 't-bar bent over row',\n",
       " 55: 'triceps kickbacks',\n",
       " 56: 'twisting hip raise',\n",
       " 57: 'upright row',\n",
       " 58: 'upright rows',\n",
       " 59: 'wrist curls'}"
      ]
     },
     "execution_count": 6,
     "metadata": {},
     "output_type": "execute_result"
    }
   ],
   "source": [
    "poses = dict(df['name'])\n",
    "poses"
   ]
  },
  {
   "cell_type": "markdown",
   "metadata": {},
   "source": [
    "# 2. Visualization"
   ]
  },
  {
   "cell_type": "markdown",
   "metadata": {},
   "source": [
    "Each row is a pose and each column is either x, y, or z coordinates for the joint of interest. The coordinates are stored in a list as a time series, where each element in the list is the coordinate for a particular time.\n",
    "\n",
    "To visualize each pose in 3D space, I will first plot points joint by joint and then iterate through the time series to update the plot creating a GIF."
   ]
  },
  {
   "cell_type": "code",
   "execution_count": 10,
   "metadata": {},
   "outputs": [
    {
     "data": {
      "image/png": "[encoded data removed]",
      "text/plain": [
       "<Figure size 720x504 with 1 Axes>"
      ]
     },
     "metadata": {
      "needs_background": "light"
     },
     "output_type": "display_data"
    }
   ],
   "source": [
    "fig = plt.figure(figsize=(10, 7))\n",
    "ax = plt.axes(projection='3d')\n",
    "pose = 9 \n",
    "\n",
    "def animate(i):\n",
    "    \"\"\"\n",
    "    This function is called every frame and updates the plot.\n",
    "    The first argument is the current frame number.\n",
    "    \"\"\"\n",
    "\n",
    "    ax.clear()\n",
    "\n",
    "    ## left shoulder and left elbow\n",
    "    ax.plot(\n",
    "        [df['xX_left_shoulder'][pose][i], df['xX_left_elbow'][pose][i]],\n",
    "        [df['yY_left_shoulder'][pose][i], df['yY_left_elbow'][pose][i]], \n",
    "        [df['zZ_left_shoulder'][pose][i], df['zZ_left_elbow'][pose][i]], marker='o', color='black', label='left_wrist', markersize=5, markeredgewidth=0.5)\n",
    "\n",
    "    ## left elbow and left wrist\n",
    "    ax.plot(\n",
    "        [df['xX_left_elbow'][pose][i], df['xX_left_wrist'][pose][i]],\n",
    "        [df['yY_left_elbow'][pose][i], df['yY_left_wrist'][pose][i]],\n",
    "        [df['zZ_left_elbow'][pose][i], df['zZ_left_wrist'][pose][i]], marker='o', color='black', label='left_wrist', markersize=5, markeredgewidth=0.5)\n",
    "\n",
    "    ## right shoulder and right elbow\n",
    "    ax.plot(\n",
    "        [df['xX_right_shoulder'][pose][i], df['xX_right_elbow'][pose][i]],\n",
    "        [df['yY_right_shoulder'][pose][i], df['yY_right_elbow'][pose][i]],\n",
    "        [df['zZ_right_shoulder'][pose][i], df['zZ_right_elbow'][pose][i]], marker='o', color='red', label='right_wrist', markersize=5, markeredgewidth=0.5)\n",
    "\n",
    "    ## right elbow and right wrist\n",
    "    ax.plot(\n",
    "        [df['xX_right_elbow'][pose][i], df['xX_right_wrist'][pose][i]],\n",
    "        [df['yY_right_elbow'][pose][i], df['yY_right_wrist'][pose][i]],\n",
    "        [df['zZ_right_elbow'][pose][i], df['zZ_right_wrist'][pose][i]], marker='o', color='red', label='right_wrist', markersize=5, markeredgewidth=0.5)\n",
    "\n",
    "    ## Head\n",
    "    x = (df['xX_left_shoulder'][pose][i] + df['xX_right_shoulder'][pose][i])/2\n",
    "    y = (df['yY_right_shoulder'][pose][i] + df['yY_left_shoulder'][pose][i])/2\n",
    "    z = (df['zZ_right_shoulder'][pose][i] + df['zZ_left_shoulder'][pose][i])/2\n",
    "\n",
    "    ## Hip\n",
    "    x_hip = (df['xX_left_hip'][pose][i] + df['xX_right_hip'][pose][i])/2\n",
    "    y_hip = (df['yY_right_hip'][pose][i] + df['yY_left_hip'][pose][i])/2\n",
    "    z_hip = (df['zZ_right_hip'][pose][i] + df['zZ_left_hip'][pose][i])/2\n",
    "\n",
    "    ## left shoulder and head\n",
    "    ax.plot(\n",
    "        [df['xX_left_shoulder'][pose][i], x],\n",
    "        [df['yY_left_shoulder'][pose][i], y],\n",
    "        [df['zZ_left_shoulder'][pose][i], z], marker='o', color='black', label='left_shoulder', markersize=5, markeredgewidth=0.5)\n",
    "\n",
    "    ## right shoulder and head\n",
    "    ax.plot(\n",
    "        [df['xX_right_shoulder'][pose][i], x],\n",
    "        [df['yY_right_shoulder'][pose][i], y],\n",
    "        [df['zZ_right_shoulder'][pose][i], z], marker='o', color='red', label='right_shoulder', markersize=5, markeredgewidth=0.5)\n",
    "\n",
    "    ## Left hip and left knee\n",
    "    ax.plot(\n",
    "        [df['xX_left_hip'][pose][i], df['xX_left_knee'][pose][i]],\n",
    "        [df['yY_left_hip'][pose][i], df['yY_left_knee'][pose][i]],\n",
    "        [df['zZ_left_hip'][pose][i], df['zZ_left_knee'][pose][i]], marker='o', color='black', label='left_wrist', markersize=5, markeredgewidth=0.5)\n",
    "\n",
    "    ax.plot(\n",
    "        [df['xX_left_knee'][pose][i], df['xX_left_ankle'][pose][i]],\n",
    "        [df['yY_left_knee'][pose][i], df['yY_left_ankle'][pose][i]],\n",
    "        [df['zZ_left_knee'][pose][i], df['zZ_left_ankle'][pose][i]], marker='o', color='black', label='left_wrist', markersize=5, markeredgewidth=0.5)\n",
    "\n",
    "    ## right hip to right knee\n",
    "    ax.plot(\n",
    "        [df['xX_right_hip'][pose][i], df['xX_right_knee'][pose][i]],\n",
    "        [df['yY_right_hip'][pose][i], df['yY_right_knee'][pose][i]],\n",
    "        [df['zZ_right_hip'][pose][i], df['zZ_right_knee'][pose][i]], marker='o', color='red', label='right_wrist', markersize=5, markeredgewidth=0.5)\n",
    "\n",
    "    ax.plot(\n",
    "        [df['xX_right_knee'][pose][i], df['xX_right_ankle'][pose][i]],\n",
    "        [df['yY_right_knee'][pose][i], df['yY_right_ankle'][pose][i]],\n",
    "        [df['zZ_right_knee'][pose][i], df['zZ_right_ankle'][pose][i]], marker='o', color='red', label='right_wrist', markersize=5, markeredgewidth=0.5)\n",
    "\n",
    "    ## left hip to right hip\n",
    "    ax.plot(\n",
    "        [df['xX_left_hip'][pose][i], x_hip],\n",
    "        [df['yY_left_hip'][pose][i], y_hip],\n",
    "        [df['zZ_left_hip'][pose][i], z_hip], marker='o', color='black', label='left_hip', markersize=5, markeredgewidth=0.5)\n",
    "\n",
    "    ax.plot(\n",
    "        [df['xX_right_hip'][pose][i], x_hip],\n",
    "        [df['yY_right_hip'][pose][i], y_hip],\n",
    "        [df['zZ_right_hip'][pose][i], z_hip], marker='o', color='red', label='right_hip', markersize=5, markeredgewidth=0.5)\n",
    "\n",
    "    plt.plot([x], [y], [z], marker='o', color='black', linestyle='dashed', label='head', markersize=20, markeredgewidth=0.5)\n",
    "\n",
    "    ## Spine\n",
    "    ax.plot(\n",
    "        [x_hip, x],\n",
    "        [y_hip, y],\n",
    "        [z_hip, z], marker='o', color='black', label='spine', markersize=5, markeredgewidth=0.5)\n",
    "\n",
    "    ax.axis('off')\n",
    "    ax.title.set_text(f'{(poses[pose])} - Top View')\n",
    "    ax.set_xlim([-1, 1])\n",
    "    ax.view_init(elev=10., azim=85)\n",
    "  \n",
    "    spine_xy = np.array([np.linalg.norm(x_hip - x), np.linalg.norm(y_hip - y)])\n",
    "    xy_plane = np.array([1, 1])\n",
    "\n",
    "    dist = spatial.distance.cosine(spine_xy, xy_plane)\n",
    "    spine_angle = np.arccos(dist)\n",
    "    spine_angle = spine_angle * (180/np.pi)\n",
    "    _ = ax.text(1.5, -0.8, 0.6, f'Spine Angle: {spine_angle:.0f}°', bbox=dict(facecolor='red'), fontsize=12, transform=ax.transAxes)\n",
    "\n",
    "frames = 60\n",
    "gif = anim.FuncAnimation(fig, animate, frames=frames, interval=1)\n",
    "gif.save(f'{df[\"name\"][pose]}.gif', fps=100, dpi=100, bitrate=2000, writer='pillow')\n"
   ]
  },
  {
   "cell_type": "markdown",
   "metadata": {},
   "source": [
    "# 3. Clustering"
   ]
  },
  {
   "cell_type": "markdown",
   "metadata": {},
   "source": [
    "In this section I will cluster similar joint movements and group them together."
   ]
  },
  {
   "cell_type": "markdown",
   "metadata": {},
   "source": [
    "### 3.1 Preparing data for clustering"
   ]
  },
  {
   "cell_type": "code",
   "execution_count": 12,
   "metadata": {},
   "outputs": [],
   "source": [
    "df = df.drop(columns=['name'])"
   ]
  },
  {
   "cell_type": "markdown",
   "metadata": {},
   "source": [
    "First, I need to check if the data is normalized or not."
   ]
  },
  {
   "cell_type": "code",
   "execution_count": 13,
   "metadata": {},
   "outputs": [
    {
     "name": "stdout",
     "output_type": "stream",
     "text": [
      "Data is not scaled properly. Max: 0.42543840408325195, Min: -1.030681848526001\n",
      "Data is not scaled properly. Max: 1.0305320024490356, Min: 0.2891605794429779\n",
      "Data is not scaled properly. Max: 0.5657778978347778, Min: -1.0185914039611816\n",
      "Data is not scaled properly. Max: 1.1450251340866089, Min: -0.19838504493236542\n",
      "Data is not scaled properly. Max: 1.0839275121688843, Min: 0.16964873671531677\n",
      "Data is not scaled properly. Max: -0.45642319321632385, Min: -1.1856335401535034\n",
      "Data is not scaled properly. Max: -0.8146106004714966, Min: -1.9661659002304077\n",
      "Data is not scaled properly. Max: 1.1054261922836304, Min: -1.1708649396896362\n",
      "Data is not scaled properly. Max: -0.6895114183425903, Min: -1.3624151945114136\n",
      "Data is not scaled properly. Max: -0.4448922276496887, Min: -1.478563666343689\n",
      "Data is not scaled properly. Max: 0.2772601842880249, Min: -1.077445149421692\n",
      "Data is not scaled properly. Max: -0.04197615757584572, Min: -1.6366550922393799\n",
      "Data is not scaled properly. Max: 0.48650139570236206, Min: -1.677490472793579\n",
      "Data is not scaled properly. Max: -0.15885937213897705, Min: -1.0399234294891357\n"
     ]
    }
   ],
   "source": [
    "for row in range(len(df)):\n",
    "    for column in range(len(df.columns)):\n",
    "        a = df.iloc[row, column]\n",
    "        a_max = np.max(a)\n",
    "        a_min = np.min(a)\n",
    "\n",
    "        if row % 3 == 0:\n",
    "            if a_max > 1 or a_min < -1:\n",
    "                print(f'Data is not scaled properly. Max: {a_max}, Min: {a_min}')"
   ]
  },
  {
   "cell_type": "markdown",
   "metadata": {},
   "source": [
    "The data is not scaled properly. There are values that are greater than 1 or less than 0, so we need to scale the data first before we can use Decomposition."
   ]
  },
  {
   "cell_type": "markdown",
   "metadata": {},
   "source": [
    "### 3.2 Normalization"
   ]
  },
  {
   "cell_type": "markdown",
   "metadata": {},
   "source": [
    "The following cell will perform min-max scaling on each data point. "
   ]
  },
  {
   "cell_type": "code",
   "execution_count": 14,
   "metadata": {},
   "outputs": [],
   "source": [
    "for row in range(len(df)):\n",
    "    for column in range(len(df.columns)):\n",
    "        df.iloc[row, column] = (df.iloc[row, column] - np.min(df.iloc[row, column])) / (np.max(df.iloc[row, column]) - np.min(df.iloc[row, column]))"
   ]
  },
  {
   "cell_type": "markdown",
   "metadata": {},
   "source": [
    "Check for length of time series"
   ]
  },
  {
   "cell_type": "code",
   "execution_count": 15,
   "metadata": {},
   "outputs": [
    {
     "data": {
      "text/plain": [
       "array([103, 121, 128, 136, 151, 155, 161, 166, 170, 172, 180, 184, 187,\n",
       "       188, 190, 193, 195, 198, 205, 208, 210, 211, 212, 217, 219, 227,\n",
       "       228, 231, 240, 241, 244, 247, 250, 251, 262, 268, 271, 284, 291,\n",
       "       294, 297, 298, 301, 310, 312, 316, 328, 352, 358, 399, 409])"
      ]
     },
     "execution_count": 15,
     "metadata": {},
     "output_type": "execute_result"
    }
   ],
   "source": [
    "length_of_list = []\n",
    "for row in range(len(df)):\n",
    "    for column in range(len(df.columns)):\n",
    "        length_of_list.append(len(df.iloc[row, column]))\n",
    "        \n",
    "np.unique(length_of_list)"
   ]
  },
  {
   "cell_type": "markdown",
   "metadata": {},
   "source": [
    "Some datapoints have different length"
   ]
  },
  {
   "cell_type": "markdown",
   "metadata": {},
   "source": [
    "### 3.3 Principal Components Analysis\n",
    "\n",
    "To reduce dimensionality of time series data"
   ]
  },
  {
   "cell_type": "code",
   "execution_count": 28,
   "metadata": {},
   "outputs": [],
   "source": [
    "X = np.array(df.iloc[pose, :].tolist())"
   ]
  },
  {
   "cell_type": "code",
   "execution_count": 29,
   "metadata": {},
   "outputs": [],
   "source": [
    "pca = PCA(n_components = 0.95)\n",
    "pca.fit(X)\n",
    "reduced = pca.transform(X)"
   ]
  },
  {
   "cell_type": "code",
   "execution_count": 30,
   "metadata": {},
   "outputs": [
    {
     "data": {
      "image/png": "[encoded data removed]",
      "text/plain": [
       "<Figure size 864x576 with 1 Axes>"
      ]
     },
     "metadata": {
      "needs_background": "light"
     },
     "output_type": "display_data"
    }
   ],
   "source": [
    "fig, ax = plt.subplots(figsize=(12, 8))\n",
    "y = np.cumsum(pca.explained_variance_ratio_)\n",
    "\n",
    "xi = np.arange(1, 7, step=1)\n",
    "plt.plot(xi, y, marker='o', linestyle='--', color='b')\n",
    "\n",
    "plt.xlabel('Number of Components')\n",
    "plt.xticks(np.arange(0, 10, step=1)) \n",
    "plt.ylabel('Cumulative variance (%)')\n",
    "plt.title('The number of components needed to explain variance')\n",
    "\n",
    "plt.axhline(y=0.95, color='r', linestyle='-')\n",
    "plt.text(0.20, 0.93, '95% cut-off threshold', color = 'red', fontsize=16)\n",
    "\n",
    "ax.grid(axis='x')\n",
    "plt.show()"
   ]
  },
  {
   "cell_type": "markdown",
   "metadata": {},
   "source": [
    "Applying PCA with 6 dimensions"
   ]
  },
  {
   "cell_type": "code",
   "execution_count": 31,
   "metadata": {},
   "outputs": [],
   "source": [
    "pca = PCA(n_components = 6)\n",
    "pca.fit(X)\n",
    "reduced_pca = pca.transform(X)\n",
    "\n",
    "reduced_pca = pd.DataFrame(reduced_pca)\n",
    "reduced_pca.columns = ['PCA_1', 'PCA_2', 'PCA_3', 'PCA_4', 'PCA_5', 'PCA_6']"
   ]
  },
  {
   "cell_type": "markdown",
   "metadata": {},
   "source": [
    "### 3.4 KMeans"
   ]
  },
  {
   "cell_type": "markdown",
   "metadata": {},
   "source": [
    "Choosing the best k with Elbow method"
   ]
  },
  {
   "cell_type": "code",
   "execution_count": 40,
   "metadata": {},
   "outputs": [
    {
     "name": "stderr",
     "output_type": "stream",
     "text": [
      "C:\\Users\\vinee\\anaconda3\\envs\\ml\\lib\\site-packages\\sklearn\\cluster\\_kmeans.py:1036: UserWarning: KMeans is known to have a memory leak on Windows with MKL, when there are less chunks than available threads. You can avoid it by setting the environment variable OMP_NUM_THREADS=1.\n",
      "  warnings.warn(\n"
     ]
    },
    {
     "data": {
      "image/png": "[encoded data removed]",
      "text/plain": [
       "<Figure size 864x576 with 1 Axes>"
      ]
     },
     "metadata": {
      "needs_background": "light"
     },
     "output_type": "display_data"
    }
   ],
   "source": [
    "sse = []\n",
    "\n",
    "for k in range(1, 19, 2):\n",
    "    kmean = KMeans(n_clusters=k, random_state=42)\n",
    "    pred = kmean.fit_predict(reduced_pca)\n",
    "    centroids = kmean.cluster_centers_\n",
    "\n",
    "    sse.append(np.sum(np.min(spatial.distance.cdist(reduced_pca, centroids, 'euclidean'), axis=1)) / X.shape[0])\n",
    "\n",
    "fig, ax = plt.subplots(figsize=(12, 8))\n",
    "x = np.arange(1, 19, 2)\n",
    "plt.plot(x, sse, marker='o', linestyle='--', color='b')\n",
    "plt.title('Elbow Method For Optimal Number of Clusters')\n",
    "plt.xlabel('Number of clusters')\n",
    "plt.ylabel('SSE')\n",
    "plt.show()\n"
   ]
  },
  {
   "cell_type": "code",
   "execution_count": 37,
   "metadata": {},
   "outputs": [
    {
     "name": "stdout",
     "output_type": "stream",
     "text": [
      "Silhouette Score: 0.51\n"
     ]
    },
    {
     "data": {
      "image/png": "[encoded data removed]",
      "text/plain": [
       "<Figure size 864x576 with 1 Axes>"
      ]
     },
     "metadata": {
      "needs_background": "light"
     },
     "output_type": "display_data"
    }
   ],
   "source": [
    "kmean = KMeans(n_clusters=5, random_state=42)\n",
    "pred = kmean.fit_predict(reduced_pca)\n",
    "centroids = kmean.cluster_centers_\n",
    "\n",
    "score = silhouette_score(reduced_pca, kmean.labels_, metric='euclidean')\n",
    "print(f'Silhouette Score: {score:.2f}')\n",
    "\n",
    "fig = plt.figure(figsize=(12, 8))\n",
    "plt.scatter(reduced_pca['PCA_1'], reduced_pca['PCA_2'], c=kmean.labels_, s=50, cmap='viridis')\n",
    "plt.scatter(centroids[:, 0], centroids[:, 1], c='black', s=200, marker='x')\n",
    "plt.title('K-Means Clustering')\n",
    "plt.xlabel('PCA 1')\n",
    "plt.ylabel('PCA 2')\n",
    "plt.show()"
   ]
  },
  {
   "cell_type": "code",
   "execution_count": null,
   "metadata": {},
   "outputs": [],
   "source": []
  }
 ],
 "metadata": {
  "interpreter": {
   "hash": "29c75b1f656e0b1ae38298d922e204e268fabb475feb2323015295e781085b10"
  },
  "kernelspec": {
   "display_name": "Python 3.8.12 ('ml')",
   "language": "python",
   "name": "python3"
  },
  "language_info": {
   "codemirror_mode": {
    "name": "ipython",
    "version": 3
   },
   "file_extension": ".py",
   "mimetype": "text/x-python",
   "name": "python",
   "nbconvert_exporter": "python",
   "pygments_lexer": "ipython3",
   "version": "3.9.11"
  },
  "orig_nbformat": 4
 },
 "nbformat": 4,
 "nbformat_minor": 2
}
